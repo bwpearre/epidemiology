{
 "cells": [
  {
   "cell_type": "markdown",
   "metadata": {},
   "source": [
    "# Epidemiology\n",
    "\n",
    "`TODO: the title is vague...`\n",
    "\n",
    "The hypothesis that focusing on gun control is a detriment to reducing gun violence in the US and that we should instead focus on wealth inequality has been proposed by [Richard Wilkinson](https://en.wikipedia.org/wiki/Richard_G._Wilkinson)\n",
    "\n",
    "`TODO: elaborate: add specific links, etc.`\n",
    "\n",
    "This analysis aims to investigate the validity and strengh of the hypothesis by examining the most common drivers of gun violence in the US and the world, observing the effects of these drivers in isolation, especially wealth inequality and gun ownership.\n",
    "\n",
    "`TODO: elaborate: define what is expected, what are all the confounders, what's the plan to isolate the two effects and compare them`\n",
    "\n",
    "### Data\n",
    "\n",
    "The data comes from X and Y.\n",
    "\n",
    "### Method\n",
    "\n",
    "The methods used are X and Y.\n",
    "\n",
    "---"
   ]
  },
  {
   "cell_type": "markdown",
   "metadata": {},
   "source": [
    "## Part 1 - Data Cleanup"
   ]
  },
  {
   "cell_type": "code",
   "execution_count": 43,
   "metadata": {},
   "outputs": [],
   "source": [
    "# load data\n",
    "world_gini_raw = pd.read_csv(os.path.join(\"data\",\"world\",\"GiniByIncome.csv\"), usecols=[0,3,4], header=None)"
   ]
  },
  {
   "cell_type": "code",
   "execution_count": 44,
   "metadata": {},
   "outputs": [],
   "source": [
    "# select columns\n",
    "world_gini = world_gini_raw.iloc[2:178, :]\n",
    "\n",
    "# cleanup header\n",
    "world_gini.columns = [\"country\", \"gini\", \"year\"]"
   ]
  },
  {
   "cell_type": "code",
   "execution_count": 54,
   "metadata": {},
   "outputs": [],
   "source": [
    "# drop NAs\n",
    "world_gini = world_gini.dropna()"
   ]
  },
  {
   "cell_type": "code",
   "execution_count": 59,
   "metadata": {},
   "outputs": [],
   "source": [
    "# unit test to make sure there are no NAs\n",
    "assert world_gini.isnull().sum().sum() == 0"
   ]
  },
  {
   "cell_type": "code",
   "execution_count": 66,
   "metadata": {},
   "outputs": [
    {
     "data": {
      "text/html": [
       "<div>\n",
       "<style scoped>\n",
       "    .dataframe tbody tr th:only-of-type {\n",
       "        vertical-align: middle;\n",
       "    }\n",
       "\n",
       "    .dataframe tbody tr th {\n",
       "        vertical-align: top;\n",
       "    }\n",
       "\n",
       "    .dataframe thead th {\n",
       "        text-align: right;\n",
       "    }\n",
       "</style>\n",
       "<table border=\"1\" class=\"dataframe\">\n",
       "  <thead>\n",
       "    <tr style=\"text-align: right;\">\n",
       "      <th></th>\n",
       "      <th>country</th>\n",
       "      <th>gini</th>\n",
       "      <th>year</th>\n",
       "    </tr>\n",
       "  </thead>\n",
       "  <tbody>\n",
       "    <tr>\n",
       "      <th>count</th>\n",
       "      <td>158</td>\n",
       "      <td>158</td>\n",
       "      <td>158</td>\n",
       "    </tr>\n",
       "    <tr>\n",
       "      <th>unique</th>\n",
       "      <td>158</td>\n",
       "      <td>121</td>\n",
       "      <td>20</td>\n",
       "    </tr>\n",
       "    <tr>\n",
       "      <th>top</th>\n",
       "      <td>Tajikistan</td>\n",
       "      <td>34.4</td>\n",
       "      <td>2017</td>\n",
       "    </tr>\n",
       "    <tr>\n",
       "      <th>freq</th>\n",
       "      <td>1</td>\n",
       "      <td>3</td>\n",
       "      <td>42</td>\n",
       "    </tr>\n",
       "  </tbody>\n",
       "</table>\n",
       "</div>"
      ],
      "text/plain": [
       "           country  gini  year\n",
       "count          158   158   158\n",
       "unique         158   121    20\n",
       "top     Tajikistan  34.4  2017\n",
       "freq             1     3    42"
      ]
     },
     "execution_count": 66,
     "metadata": {},
     "output_type": "execute_result"
    }
   ],
   "source": [
    "world_gini.describe()"
   ]
  },
  {
   "cell_type": "markdown",
   "metadata": {},
   "source": [
    "Okay Python sucks for EDA - or I just don't know enough about Pythonic EDA."
   ]
  },
  {
   "cell_type": "markdown",
   "metadata": {},
   "source": [
    "## Part 2 - Data Aggregation\n",
    "\n",
    "In this part we aggregate all the clean datasets, which were saved in a /data/clean/ dir or something so next time you can just import them.\n",
    "\n",
    "The aggregated data is in tidy format or other format ready for plotting."
   ]
  },
  {
   "cell_type": "markdown",
   "metadata": {},
   "source": [
    "## Part 3 - Exploratory Data Analysis\n",
    "\n",
    "This part is the more intensive EDA, not for cleanup but for visually validating hypothesis. It's the \"PLOT ALL THE THINGS\" part. The data is already in ready format and you can just write some simple plotting functions. Copy examples from matplotlib. No need for two libraries just use one."
   ]
  },
  {
   "cell_type": "markdown",
   "metadata": {},
   "source": [
    "## Part 4 - Data Analysis\n",
    "\n",
    "Here you could actuall do some stats, plot some trend lines with r values (correlations) and r^2 (strength of relationship) and see whether your hypothesis holds any water. Visualizing isn't enough IMO because of confounders and scales and such.\n"
   ]
  },
  {
   "cell_type": "markdown",
   "metadata": {},
   "source": [
    "## Part 5 - Conclusion\n",
    "\n",
    "Write pretty words. Maybe the difference between gun violence attributable to wealth inequality isn't that different from that attributable to gun ownership... maybe you're pleasantly surprised and more moderate, maybe not and if not, you have X evidence now.\n",
    "\n",
    "Of course there's a \"rinse and repeat\" to all this - you can comment on the limitations and scope, quality of data, what other data would be needed or interesting to consider. Ex. how many guns are in the hands of rich folks in the US? Can we control for ownership by stratifying it by wealth (do we have the data)? What about mental illness? What about age as a factor? What about red vs blue states (honor vs dignity cultures)? "
   ]
  },
  {
   "cell_type": "markdown",
   "metadata": {},
   "source": [
    "---"
   ]
  }
 ],
 "metadata": {
  "kernelspec": {
   "display_name": "Python 3",
   "language": "python",
   "name": "python3"
  },
  "language_info": {
   "codemirror_mode": {
    "name": "ipython",
    "version": 3
   },
   "file_extension": ".py",
   "mimetype": "text/x-python",
   "name": "python",
   "nbconvert_exporter": "python",
   "pygments_lexer": "ipython3",
   "version": "3.9.1"
  }
 },
 "nbformat": 4,
 "nbformat_minor": 4
}
